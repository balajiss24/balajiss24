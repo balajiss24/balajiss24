{
 "cells": [
  {
   "cell_type": "markdown",
   "id": "06b060d3",
   "metadata": {},
   "source": [
    "## importing the dependencies"
   ]
  },
  {
   "cell_type": "code",
   "execution_count": 187,
   "id": "73375297",
   "metadata": {},
   "outputs": [],
   "source": [
    "import pandas as pd\n",
    "import numpy as np\n",
    "import matplotlib.pyplot as plt\n",
    "import seaborn as sns\n",
    "from sklearn.model_selection import train_test_split"
   ]
  },
  {
   "cell_type": "code",
   "execution_count": null,
   "id": "bf07fa50",
   "metadata": {},
   "outputs": [],
   "source": []
  },
  {
   "cell_type": "code",
   "execution_count": 146,
   "id": "efab50c1",
   "metadata": {},
   "outputs": [],
   "source": [
    "# Reading the data Set\n",
    "\n",
    "df=pd.read_csv(r\"C:\\Users\\Administrator\\Downloads\\HyderabadResturants.csv\")"
   ]
  },
  {
   "cell_type": "code",
   "execution_count": 147,
   "id": "8d937c88",
   "metadata": {},
   "outputs": [
    {
     "data": {
      "text/html": [
       "<div>\n",
       "<style scoped>\n",
       "    .dataframe tbody tr th:only-of-type {\n",
       "        vertical-align: middle;\n",
       "    }\n",
       "\n",
       "    .dataframe tbody tr th {\n",
       "        vertical-align: top;\n",
       "    }\n",
       "\n",
       "    .dataframe thead th {\n",
       "        text-align: right;\n",
       "    }\n",
       "</style>\n",
       "<table border=\"1\" class=\"dataframe\">\n",
       "  <thead>\n",
       "    <tr style=\"text-align: right;\">\n",
       "      <th></th>\n",
       "      <th>links</th>\n",
       "      <th>names</th>\n",
       "      <th>ratings</th>\n",
       "      <th>cuisine</th>\n",
       "      <th>price for one</th>\n",
       "    </tr>\n",
       "  </thead>\n",
       "  <tbody>\n",
       "    <tr>\n",
       "      <th>0</th>\n",
       "      <td>https://www.zomato.com/hyderabad/sahara-bakers...</td>\n",
       "      <td>Sahara Bakers</td>\n",
       "      <td>3.7</td>\n",
       "      <td>Chinese, Bakery, Sichuan, Pizza, Burger</td>\n",
       "      <td>100</td>\n",
       "    </tr>\n",
       "    <tr>\n",
       "      <th>1</th>\n",
       "      <td>https://www.zomato.com/hyderabad/kfc-abids/order</td>\n",
       "      <td>KFC</td>\n",
       "      <td>3.9</td>\n",
       "      <td>Burger, Fast Food, Biryani, Desserts, Beverages</td>\n",
       "      <td>100</td>\n",
       "    </tr>\n",
       "    <tr>\n",
       "      <th>2</th>\n",
       "      <td>https://www.zomato.com/hyderabad/subbaiah-gari...</td>\n",
       "      <td>Subbaiah Gari Hotel</td>\n",
       "      <td>4.1</td>\n",
       "      <td>South Indian, Andhra, Mithai</td>\n",
       "      <td>100</td>\n",
       "    </tr>\n",
       "    <tr>\n",
       "      <th>3</th>\n",
       "      <td>https://www.zomato.com/hyderabad/paradise-biry...</td>\n",
       "      <td>Paradise Biryani</td>\n",
       "      <td>3.9</td>\n",
       "      <td>Biryani, Kebab, Desserts, Beverages</td>\n",
       "      <td>100</td>\n",
       "    </tr>\n",
       "    <tr>\n",
       "      <th>4</th>\n",
       "      <td>https://www.zomato.com/hyderabad/pista-house-b...</td>\n",
       "      <td>Pista House Bakery</td>\n",
       "      <td>4.3</td>\n",
       "      <td>Fast Food, Sandwich, Pizza, Burger, Wraps, Rol...</td>\n",
       "      <td>100</td>\n",
       "    </tr>\n",
       "    <tr>\n",
       "      <th>...</th>\n",
       "      <td>...</td>\n",
       "      <td>...</td>\n",
       "      <td>...</td>\n",
       "      <td>...</td>\n",
       "      <td>...</td>\n",
       "    </tr>\n",
       "    <tr>\n",
       "      <th>652</th>\n",
       "      <td>https://www.zomato.com/hyderabad/dr-cakes-banj...</td>\n",
       "      <td>Dr Cakes</td>\n",
       "      <td>3.2</td>\n",
       "      <td>Bakery, Desserts</td>\n",
       "      <td>350</td>\n",
       "    </tr>\n",
       "    <tr>\n",
       "      <th>653</th>\n",
       "      <td>https://www.zomato.com/hyderabad/shahi-naan-am...</td>\n",
       "      <td>Shahi Naan</td>\n",
       "      <td>-</td>\n",
       "      <td>North Indian</td>\n",
       "      <td>350</td>\n",
       "    </tr>\n",
       "    <tr>\n",
       "      <th>654</th>\n",
       "      <td>https://www.zomato.com/hyderabad/combosthalam-...</td>\n",
       "      <td>Combosthalam By Phulkaas</td>\n",
       "      <td>3.8</td>\n",
       "      <td>North Indian, Chinese</td>\n",
       "      <td>350</td>\n",
       "    </tr>\n",
       "    <tr>\n",
       "      <th>655</th>\n",
       "      <td>https://www.zomato.com/hyderabad/pachadis-by-p...</td>\n",
       "      <td>Pachadis By Phulkaas</td>\n",
       "      <td>-</td>\n",
       "      <td>South Indian</td>\n",
       "      <td>350</td>\n",
       "    </tr>\n",
       "    <tr>\n",
       "      <th>656</th>\n",
       "      <td>https://www.zomato.com/hyderabad/tasim-1-himay...</td>\n",
       "      <td>Tasim</td>\n",
       "      <td>3.4</td>\n",
       "      <td>Chinese, Momos</td>\n",
       "      <td>350</td>\n",
       "    </tr>\n",
       "  </tbody>\n",
       "</table>\n",
       "<p>657 rows × 5 columns</p>\n",
       "</div>"
      ],
      "text/plain": [
       "                                                 links  \\\n",
       "0    https://www.zomato.com/hyderabad/sahara-bakers...   \n",
       "1     https://www.zomato.com/hyderabad/kfc-abids/order   \n",
       "2    https://www.zomato.com/hyderabad/subbaiah-gari...   \n",
       "3    https://www.zomato.com/hyderabad/paradise-biry...   \n",
       "4    https://www.zomato.com/hyderabad/pista-house-b...   \n",
       "..                                                 ...   \n",
       "652  https://www.zomato.com/hyderabad/dr-cakes-banj...   \n",
       "653  https://www.zomato.com/hyderabad/shahi-naan-am...   \n",
       "654  https://www.zomato.com/hyderabad/combosthalam-...   \n",
       "655  https://www.zomato.com/hyderabad/pachadis-by-p...   \n",
       "656  https://www.zomato.com/hyderabad/tasim-1-himay...   \n",
       "\n",
       "                        names ratings  \\\n",
       "0               Sahara Bakers     3.7   \n",
       "1                         KFC     3.9   \n",
       "2         Subbaiah Gari Hotel     4.1   \n",
       "3            Paradise Biryani     3.9   \n",
       "4          Pista House Bakery     4.3   \n",
       "..                        ...     ...   \n",
       "652                  Dr Cakes     3.2   \n",
       "653                Shahi Naan       -   \n",
       "654  Combosthalam By Phulkaas     3.8   \n",
       "655      Pachadis By Phulkaas       -   \n",
       "656                     Tasim     3.4   \n",
       "\n",
       "                                               cuisine  price for one  \n",
       "0              Chinese, Bakery, Sichuan, Pizza, Burger            100  \n",
       "1      Burger, Fast Food, Biryani, Desserts, Beverages            100  \n",
       "2                         South Indian, Andhra, Mithai            100  \n",
       "3                  Biryani, Kebab, Desserts, Beverages            100  \n",
       "4    Fast Food, Sandwich, Pizza, Burger, Wraps, Rol...            100  \n",
       "..                                                 ...            ...  \n",
       "652                                   Bakery, Desserts            350  \n",
       "653                                       North Indian            350  \n",
       "654                              North Indian, Chinese            350  \n",
       "655                                       South Indian            350  \n",
       "656                                     Chinese, Momos            350  \n",
       "\n",
       "[657 rows x 5 columns]"
      ]
     },
     "execution_count": 147,
     "metadata": {},
     "output_type": "execute_result"
    }
   ],
   "source": [
    "df"
   ]
  },
  {
   "cell_type": "code",
   "execution_count": 148,
   "id": "5252451c",
   "metadata": {},
   "outputs": [
    {
     "data": {
      "text/html": [
       "<div>\n",
       "<style scoped>\n",
       "    .dataframe tbody tr th:only-of-type {\n",
       "        vertical-align: middle;\n",
       "    }\n",
       "\n",
       "    .dataframe tbody tr th {\n",
       "        vertical-align: top;\n",
       "    }\n",
       "\n",
       "    .dataframe thead th {\n",
       "        text-align: right;\n",
       "    }\n",
       "</style>\n",
       "<table border=\"1\" class=\"dataframe\">\n",
       "  <thead>\n",
       "    <tr style=\"text-align: right;\">\n",
       "      <th></th>\n",
       "      <th>links</th>\n",
       "      <th>names</th>\n",
       "      <th>ratings</th>\n",
       "      <th>cuisine</th>\n",
       "      <th>price for one</th>\n",
       "    </tr>\n",
       "  </thead>\n",
       "  <tbody>\n",
       "    <tr>\n",
       "      <th>0</th>\n",
       "      <td>https://www.zomato.com/hyderabad/sahara-bakers...</td>\n",
       "      <td>Sahara Bakers</td>\n",
       "      <td>3.7</td>\n",
       "      <td>Chinese, Bakery, Sichuan, Pizza, Burger</td>\n",
       "      <td>100</td>\n",
       "    </tr>\n",
       "    <tr>\n",
       "      <th>1</th>\n",
       "      <td>https://www.zomato.com/hyderabad/kfc-abids/order</td>\n",
       "      <td>KFC</td>\n",
       "      <td>3.9</td>\n",
       "      <td>Burger, Fast Food, Biryani, Desserts, Beverages</td>\n",
       "      <td>100</td>\n",
       "    </tr>\n",
       "    <tr>\n",
       "      <th>2</th>\n",
       "      <td>https://www.zomato.com/hyderabad/subbaiah-gari...</td>\n",
       "      <td>Subbaiah Gari Hotel</td>\n",
       "      <td>4.1</td>\n",
       "      <td>South Indian, Andhra, Mithai</td>\n",
       "      <td>100</td>\n",
       "    </tr>\n",
       "    <tr>\n",
       "      <th>3</th>\n",
       "      <td>https://www.zomato.com/hyderabad/paradise-biry...</td>\n",
       "      <td>Paradise Biryani</td>\n",
       "      <td>3.9</td>\n",
       "      <td>Biryani, Kebab, Desserts, Beverages</td>\n",
       "      <td>100</td>\n",
       "    </tr>\n",
       "    <tr>\n",
       "      <th>4</th>\n",
       "      <td>https://www.zomato.com/hyderabad/pista-house-b...</td>\n",
       "      <td>Pista House Bakery</td>\n",
       "      <td>4.3</td>\n",
       "      <td>Fast Food, Sandwich, Pizza, Burger, Wraps, Rol...</td>\n",
       "      <td>100</td>\n",
       "    </tr>\n",
       "  </tbody>\n",
       "</table>\n",
       "</div>"
      ],
      "text/plain": [
       "                                               links                names  \\\n",
       "0  https://www.zomato.com/hyderabad/sahara-bakers...        Sahara Bakers   \n",
       "1   https://www.zomato.com/hyderabad/kfc-abids/order                  KFC   \n",
       "2  https://www.zomato.com/hyderabad/subbaiah-gari...  Subbaiah Gari Hotel   \n",
       "3  https://www.zomato.com/hyderabad/paradise-biry...     Paradise Biryani   \n",
       "4  https://www.zomato.com/hyderabad/pista-house-b...   Pista House Bakery   \n",
       "\n",
       "  ratings                                            cuisine  price for one  \n",
       "0     3.7            Chinese, Bakery, Sichuan, Pizza, Burger            100  \n",
       "1     3.9    Burger, Fast Food, Biryani, Desserts, Beverages            100  \n",
       "2     4.1                       South Indian, Andhra, Mithai            100  \n",
       "3     3.9                Biryani, Kebab, Desserts, Beverages            100  \n",
       "4     4.3  Fast Food, Sandwich, Pizza, Burger, Wraps, Rol...            100  "
      ]
     },
     "execution_count": 148,
     "metadata": {},
     "output_type": "execute_result"
    }
   ],
   "source": [
    "# to check the first five rows\n",
    "df.head()"
   ]
  },
  {
   "cell_type": "code",
   "execution_count": 149,
   "id": "94663c3d",
   "metadata": {},
   "outputs": [
    {
     "data": {
      "text/html": [
       "<div>\n",
       "<style scoped>\n",
       "    .dataframe tbody tr th:only-of-type {\n",
       "        vertical-align: middle;\n",
       "    }\n",
       "\n",
       "    .dataframe tbody tr th {\n",
       "        vertical-align: top;\n",
       "    }\n",
       "\n",
       "    .dataframe thead th {\n",
       "        text-align: right;\n",
       "    }\n",
       "</style>\n",
       "<table border=\"1\" class=\"dataframe\">\n",
       "  <thead>\n",
       "    <tr style=\"text-align: right;\">\n",
       "      <th></th>\n",
       "      <th>links</th>\n",
       "      <th>names</th>\n",
       "      <th>ratings</th>\n",
       "      <th>cuisine</th>\n",
       "      <th>price for one</th>\n",
       "    </tr>\n",
       "  </thead>\n",
       "  <tbody>\n",
       "    <tr>\n",
       "      <th>652</th>\n",
       "      <td>https://www.zomato.com/hyderabad/dr-cakes-banj...</td>\n",
       "      <td>Dr Cakes</td>\n",
       "      <td>3.2</td>\n",
       "      <td>Bakery, Desserts</td>\n",
       "      <td>350</td>\n",
       "    </tr>\n",
       "    <tr>\n",
       "      <th>653</th>\n",
       "      <td>https://www.zomato.com/hyderabad/shahi-naan-am...</td>\n",
       "      <td>Shahi Naan</td>\n",
       "      <td>-</td>\n",
       "      <td>North Indian</td>\n",
       "      <td>350</td>\n",
       "    </tr>\n",
       "    <tr>\n",
       "      <th>654</th>\n",
       "      <td>https://www.zomato.com/hyderabad/combosthalam-...</td>\n",
       "      <td>Combosthalam By Phulkaas</td>\n",
       "      <td>3.8</td>\n",
       "      <td>North Indian, Chinese</td>\n",
       "      <td>350</td>\n",
       "    </tr>\n",
       "    <tr>\n",
       "      <th>655</th>\n",
       "      <td>https://www.zomato.com/hyderabad/pachadis-by-p...</td>\n",
       "      <td>Pachadis By Phulkaas</td>\n",
       "      <td>-</td>\n",
       "      <td>South Indian</td>\n",
       "      <td>350</td>\n",
       "    </tr>\n",
       "    <tr>\n",
       "      <th>656</th>\n",
       "      <td>https://www.zomato.com/hyderabad/tasim-1-himay...</td>\n",
       "      <td>Tasim</td>\n",
       "      <td>3.4</td>\n",
       "      <td>Chinese, Momos</td>\n",
       "      <td>350</td>\n",
       "    </tr>\n",
       "  </tbody>\n",
       "</table>\n",
       "</div>"
      ],
      "text/plain": [
       "                                                 links  \\\n",
       "652  https://www.zomato.com/hyderabad/dr-cakes-banj...   \n",
       "653  https://www.zomato.com/hyderabad/shahi-naan-am...   \n",
       "654  https://www.zomato.com/hyderabad/combosthalam-...   \n",
       "655  https://www.zomato.com/hyderabad/pachadis-by-p...   \n",
       "656  https://www.zomato.com/hyderabad/tasim-1-himay...   \n",
       "\n",
       "                        names ratings                cuisine  price for one  \n",
       "652                  Dr Cakes     3.2       Bakery, Desserts            350  \n",
       "653                Shahi Naan       -           North Indian            350  \n",
       "654  Combosthalam By Phulkaas     3.8  North Indian, Chinese            350  \n",
       "655      Pachadis By Phulkaas       -           South Indian            350  \n",
       "656                     Tasim     3.4         Chinese, Momos            350  "
      ]
     },
     "execution_count": 149,
     "metadata": {},
     "output_type": "execute_result"
    }
   ],
   "source": [
    "#  last five rows\n",
    "df.tail()"
   ]
  },
  {
   "cell_type": "code",
   "execution_count": null,
   "id": "e05300ef",
   "metadata": {},
   "outputs": [],
   "source": []
  },
  {
   "cell_type": "code",
   "execution_count": 150,
   "id": "56b71535",
   "metadata": {},
   "outputs": [
    {
     "data": {
      "text/plain": [
       "(657, 5)"
      ]
     },
     "execution_count": 150,
     "metadata": {},
     "output_type": "execute_result"
    }
   ],
   "source": [
    "# to check the rows and col\n",
    "df.shape"
   ]
  },
  {
   "cell_type": "code",
   "execution_count": 151,
   "id": "ffd0369b",
   "metadata": {},
   "outputs": [],
   "source": [
    "#  find the columns names"
   ]
  },
  {
   "cell_type": "code",
   "execution_count": 152,
   "id": "d9f477ae",
   "metadata": {},
   "outputs": [
    {
     "data": {
      "text/plain": [
       "Index(['links', 'names', 'ratings', 'cuisine', 'price for one'], dtype='object')"
      ]
     },
     "execution_count": 152,
     "metadata": {},
     "output_type": "execute_result"
    }
   ],
   "source": [
    "df.columns"
   ]
  },
  {
   "cell_type": "code",
   "execution_count": 153,
   "id": "1a699eb0",
   "metadata": {},
   "outputs": [
    {
     "name": "stdout",
     "output_type": "stream",
     "text": [
      "<class 'pandas.core.frame.DataFrame'>\n",
      "RangeIndex: 657 entries, 0 to 656\n",
      "Data columns (total 5 columns):\n",
      " #   Column         Non-Null Count  Dtype \n",
      "---  ------         --------------  ----- \n",
      " 0   links          657 non-null    object\n",
      " 1   names          657 non-null    object\n",
      " 2   ratings        657 non-null    object\n",
      " 3   cuisine        657 non-null    object\n",
      " 4   price for one  657 non-null    int64 \n",
      "dtypes: int64(1), object(4)\n",
      "memory usage: 25.8+ KB\n"
     ]
    }
   ],
   "source": [
    "#  data information\n",
    "df.info()"
   ]
  },
  {
   "cell_type": "code",
   "execution_count": 154,
   "id": "42501896",
   "metadata": {},
   "outputs": [
    {
     "data": {
      "text/html": [
       "<div>\n",
       "<style scoped>\n",
       "    .dataframe tbody tr th:only-of-type {\n",
       "        vertical-align: middle;\n",
       "    }\n",
       "\n",
       "    .dataframe tbody tr th {\n",
       "        vertical-align: top;\n",
       "    }\n",
       "\n",
       "    .dataframe thead th {\n",
       "        text-align: right;\n",
       "    }\n",
       "</style>\n",
       "<table border=\"1\" class=\"dataframe\">\n",
       "  <thead>\n",
       "    <tr style=\"text-align: right;\">\n",
       "      <th></th>\n",
       "      <th>price for one</th>\n",
       "    </tr>\n",
       "  </thead>\n",
       "  <tbody>\n",
       "    <tr>\n",
       "      <th>count</th>\n",
       "      <td>657.000000</td>\n",
       "    </tr>\n",
       "    <tr>\n",
       "      <th>mean</th>\n",
       "      <td>169.406393</td>\n",
       "    </tr>\n",
       "    <tr>\n",
       "      <th>std</th>\n",
       "      <td>97.178712</td>\n",
       "    </tr>\n",
       "    <tr>\n",
       "      <th>min</th>\n",
       "      <td>50.000000</td>\n",
       "    </tr>\n",
       "    <tr>\n",
       "      <th>25%</th>\n",
       "      <td>100.000000</td>\n",
       "    </tr>\n",
       "    <tr>\n",
       "      <th>50%</th>\n",
       "      <td>150.000000</td>\n",
       "    </tr>\n",
       "    <tr>\n",
       "      <th>75%</th>\n",
       "      <td>250.000000</td>\n",
       "    </tr>\n",
       "    <tr>\n",
       "      <th>max</th>\n",
       "      <td>400.000000</td>\n",
       "    </tr>\n",
       "  </tbody>\n",
       "</table>\n",
       "</div>"
      ],
      "text/plain": [
       "       price for one\n",
       "count     657.000000\n",
       "mean      169.406393\n",
       "std        97.178712\n",
       "min        50.000000\n",
       "25%       100.000000\n",
       "50%       150.000000\n",
       "75%       250.000000\n",
       "max       400.000000"
      ]
     },
     "execution_count": 154,
     "metadata": {},
     "output_type": "execute_result"
    }
   ],
   "source": [
    "df.describe()"
   ]
  },
  {
   "cell_type": "code",
   "execution_count": 155,
   "id": "069a01f9",
   "metadata": {},
   "outputs": [
    {
     "data": {
      "text/html": [
       "<div>\n",
       "<style scoped>\n",
       "    .dataframe tbody tr th:only-of-type {\n",
       "        vertical-align: middle;\n",
       "    }\n",
       "\n",
       "    .dataframe tbody tr th {\n",
       "        vertical-align: top;\n",
       "    }\n",
       "\n",
       "    .dataframe thead th {\n",
       "        text-align: right;\n",
       "    }\n",
       "</style>\n",
       "<table border=\"1\" class=\"dataframe\">\n",
       "  <thead>\n",
       "    <tr style=\"text-align: right;\">\n",
       "      <th></th>\n",
       "      <th>names</th>\n",
       "      <th>ratings</th>\n",
       "      <th>cuisine</th>\n",
       "      <th>price for one</th>\n",
       "    </tr>\n",
       "  </thead>\n",
       "  <tbody>\n",
       "    <tr>\n",
       "      <th>0</th>\n",
       "      <td>Sahara Bakers</td>\n",
       "      <td>3.7</td>\n",
       "      <td>Chinese, Bakery, Sichuan, Pizza, Burger</td>\n",
       "      <td>100</td>\n",
       "    </tr>\n",
       "    <tr>\n",
       "      <th>1</th>\n",
       "      <td>KFC</td>\n",
       "      <td>3.9</td>\n",
       "      <td>Burger, Fast Food, Biryani, Desserts, Beverages</td>\n",
       "      <td>100</td>\n",
       "    </tr>\n",
       "    <tr>\n",
       "      <th>2</th>\n",
       "      <td>Subbaiah Gari Hotel</td>\n",
       "      <td>4.1</td>\n",
       "      <td>South Indian, Andhra, Mithai</td>\n",
       "      <td>100</td>\n",
       "    </tr>\n",
       "    <tr>\n",
       "      <th>3</th>\n",
       "      <td>Paradise Biryani</td>\n",
       "      <td>3.9</td>\n",
       "      <td>Biryani, Kebab, Desserts, Beverages</td>\n",
       "      <td>100</td>\n",
       "    </tr>\n",
       "    <tr>\n",
       "      <th>4</th>\n",
       "      <td>Pista House Bakery</td>\n",
       "      <td>4.3</td>\n",
       "      <td>Fast Food, Sandwich, Pizza, Burger, Wraps, Rol...</td>\n",
       "      <td>100</td>\n",
       "    </tr>\n",
       "    <tr>\n",
       "      <th>...</th>\n",
       "      <td>...</td>\n",
       "      <td>...</td>\n",
       "      <td>...</td>\n",
       "      <td>...</td>\n",
       "    </tr>\n",
       "    <tr>\n",
       "      <th>652</th>\n",
       "      <td>Dr Cakes</td>\n",
       "      <td>3.2</td>\n",
       "      <td>Bakery, Desserts</td>\n",
       "      <td>350</td>\n",
       "    </tr>\n",
       "    <tr>\n",
       "      <th>653</th>\n",
       "      <td>Shahi Naan</td>\n",
       "      <td>-</td>\n",
       "      <td>North Indian</td>\n",
       "      <td>350</td>\n",
       "    </tr>\n",
       "    <tr>\n",
       "      <th>654</th>\n",
       "      <td>Combosthalam By Phulkaas</td>\n",
       "      <td>3.8</td>\n",
       "      <td>North Indian, Chinese</td>\n",
       "      <td>350</td>\n",
       "    </tr>\n",
       "    <tr>\n",
       "      <th>655</th>\n",
       "      <td>Pachadis By Phulkaas</td>\n",
       "      <td>-</td>\n",
       "      <td>South Indian</td>\n",
       "      <td>350</td>\n",
       "    </tr>\n",
       "    <tr>\n",
       "      <th>656</th>\n",
       "      <td>Tasim</td>\n",
       "      <td>3.4</td>\n",
       "      <td>Chinese, Momos</td>\n",
       "      <td>350</td>\n",
       "    </tr>\n",
       "  </tbody>\n",
       "</table>\n",
       "<p>657 rows × 4 columns</p>\n",
       "</div>"
      ],
      "text/plain": [
       "                        names ratings  \\\n",
       "0               Sahara Bakers     3.7   \n",
       "1                         KFC     3.9   \n",
       "2         Subbaiah Gari Hotel     4.1   \n",
       "3            Paradise Biryani     3.9   \n",
       "4          Pista House Bakery     4.3   \n",
       "..                        ...     ...   \n",
       "652                  Dr Cakes     3.2   \n",
       "653                Shahi Naan       -   \n",
       "654  Combosthalam By Phulkaas     3.8   \n",
       "655      Pachadis By Phulkaas       -   \n",
       "656                     Tasim     3.4   \n",
       "\n",
       "                                               cuisine  price for one  \n",
       "0              Chinese, Bakery, Sichuan, Pizza, Burger            100  \n",
       "1      Burger, Fast Food, Biryani, Desserts, Beverages            100  \n",
       "2                         South Indian, Andhra, Mithai            100  \n",
       "3                  Biryani, Kebab, Desserts, Beverages            100  \n",
       "4    Fast Food, Sandwich, Pizza, Burger, Wraps, Rol...            100  \n",
       "..                                                 ...            ...  \n",
       "652                                   Bakery, Desserts            350  \n",
       "653                                       North Indian            350  \n",
       "654                              North Indian, Chinese            350  \n",
       "655                                       South Indian            350  \n",
       "656                                     Chinese, Momos            350  \n",
       "\n",
       "[657 rows x 4 columns]"
      ]
     },
     "execution_count": 155,
     "metadata": {},
     "output_type": "execute_result"
    }
   ],
   "source": [
    "# Remove column name 'A'\n",
    "df.drop(['links'], axis=1,inplace=True)\n",
    "df"
   ]
  },
  {
   "cell_type": "code",
   "execution_count": 156,
   "id": "fe14c81e",
   "metadata": {},
   "outputs": [
    {
     "name": "stdout",
     "output_type": "stream",
     "text": [
      "<class 'pandas.core.frame.DataFrame'>\n",
      "RangeIndex: 657 entries, 0 to 656\n",
      "Data columns (total 4 columns):\n",
      " #   Column         Non-Null Count  Dtype \n",
      "---  ------         --------------  ----- \n",
      " 0   names          657 non-null    object\n",
      " 1   ratings        657 non-null    object\n",
      " 2   cuisine        657 non-null    object\n",
      " 3   price for one  657 non-null    int64 \n",
      "dtypes: int64(1), object(3)\n",
      "memory usage: 20.7+ KB\n"
     ]
    }
   ],
   "source": [
    "#  now i am checking thr information\n",
    "df.info()"
   ]
  },
  {
   "cell_type": "code",
   "execution_count": 157,
   "id": "110c1c8c",
   "metadata": {},
   "outputs": [
    {
     "data": {
      "text/html": [
       "<div>\n",
       "<style scoped>\n",
       "    .dataframe tbody tr th:only-of-type {\n",
       "        vertical-align: middle;\n",
       "    }\n",
       "\n",
       "    .dataframe tbody tr th {\n",
       "        vertical-align: top;\n",
       "    }\n",
       "\n",
       "    .dataframe thead th {\n",
       "        text-align: right;\n",
       "    }\n",
       "</style>\n",
       "<table border=\"1\" class=\"dataframe\">\n",
       "  <thead>\n",
       "    <tr style=\"text-align: right;\">\n",
       "      <th></th>\n",
       "      <th>price for one</th>\n",
       "    </tr>\n",
       "  </thead>\n",
       "  <tbody>\n",
       "    <tr>\n",
       "      <th>count</th>\n",
       "      <td>657.000000</td>\n",
       "    </tr>\n",
       "    <tr>\n",
       "      <th>mean</th>\n",
       "      <td>169.406393</td>\n",
       "    </tr>\n",
       "    <tr>\n",
       "      <th>std</th>\n",
       "      <td>97.178712</td>\n",
       "    </tr>\n",
       "    <tr>\n",
       "      <th>min</th>\n",
       "      <td>50.000000</td>\n",
       "    </tr>\n",
       "    <tr>\n",
       "      <th>25%</th>\n",
       "      <td>100.000000</td>\n",
       "    </tr>\n",
       "    <tr>\n",
       "      <th>50%</th>\n",
       "      <td>150.000000</td>\n",
       "    </tr>\n",
       "    <tr>\n",
       "      <th>75%</th>\n",
       "      <td>250.000000</td>\n",
       "    </tr>\n",
       "    <tr>\n",
       "      <th>max</th>\n",
       "      <td>400.000000</td>\n",
       "    </tr>\n",
       "  </tbody>\n",
       "</table>\n",
       "</div>"
      ],
      "text/plain": [
       "       price for one\n",
       "count     657.000000\n",
       "mean      169.406393\n",
       "std        97.178712\n",
       "min        50.000000\n",
       "25%       100.000000\n",
       "50%       150.000000\n",
       "75%       250.000000\n",
       "max       400.000000"
      ]
     },
     "execution_count": 157,
     "metadata": {},
     "output_type": "execute_result"
    }
   ],
   "source": [
    "df.describe()"
   ]
  },
  {
   "cell_type": "code",
   "execution_count": 158,
   "id": "a33dc64b",
   "metadata": {},
   "outputs": [
    {
     "data": {
      "text/plain": [
       "0"
      ]
     },
     "execution_count": 158,
     "metadata": {},
     "output_type": "execute_result"
    }
   ],
   "source": [
    "#  we have find the duplicate value\n",
    "df.duplicated().sum()"
   ]
  },
  {
   "cell_type": "code",
   "execution_count": 159,
   "id": "4d3b1081",
   "metadata": {},
   "outputs": [
    {
     "data": {
      "text/plain": [
       "names            0\n",
       "ratings          0\n",
       "cuisine          0\n",
       "price for one    0\n",
       "dtype: int64"
      ]
     },
     "execution_count": 159,
     "metadata": {},
     "output_type": "execute_result"
    }
   ],
   "source": [
    "# Checking not available (NULL)\n",
    "\n",
    "df.isna().sum()"
   ]
  },
  {
   "cell_type": "code",
   "execution_count": 160,
   "id": "3fa0aa01",
   "metadata": {},
   "outputs": [
    {
     "name": "stderr",
     "output_type": "stream",
     "text": [
      "C:\\Users\\ADMINI~1\\AppData\\Local\\Temp/ipykernel_15748/1665899112.py:1: FutureWarning: Dropping of nuisance columns in DataFrame reductions (with 'numeric_only=None') is deprecated; in a future version this will raise TypeError.  Select only valid columns before calling the reduction.\n",
      "  df.skew()\n"
     ]
    },
    {
     "data": {
      "text/plain": [
       "price for one    0.868718\n",
       "dtype: float64"
      ]
     },
     "execution_count": 160,
     "metadata": {},
     "output_type": "execute_result"
    }
   ],
   "source": [
    "df.skew()"
   ]
  },
  {
   "cell_type": "code",
   "execution_count": 161,
   "id": "14263cd2",
   "metadata": {},
   "outputs": [
    {
     "data": {
      "text/plain": [
       "array(['3.7', '3.9', '4.1', '4.3', '4', '4.2', '4.4', '4.5', '3.8', '4.6',\n",
       "       '3.6', 'New', '3.4', '3.5', '3.1', '3.3', '2.7', '3.2', '-', '3',\n",
       "       '4.7', '2.8', '2.9', '2.6'], dtype=object)"
      ]
     },
     "execution_count": 161,
     "metadata": {},
     "output_type": "execute_result"
    }
   ],
   "source": [
    "df.ratings.unique()"
   ]
  },
  {
   "cell_type": "code",
   "execution_count": 162,
   "id": "1cec1014",
   "metadata": {},
   "outputs": [
    {
     "data": {
      "text/plain": [
       "4      103\n",
       "4.1     77\n",
       "4.3     66\n",
       "-       63\n",
       "3.9     62\n",
       "4.2     62\n",
       "3.7     44\n",
       "3.8     42\n",
       "3.5     31\n",
       "3.6     28\n",
       "4.4     21\n",
       "3.4     14\n",
       "3.2      8\n",
       "4.5      8\n",
       "3.1      7\n",
       "3.3      5\n",
       "New      4\n",
       "4.6      4\n",
       "3        2\n",
       "2.9      2\n",
       "2.7      1\n",
       "4.7      1\n",
       "2.8      1\n",
       "2.6      1\n",
       "Name: ratings, dtype: int64"
      ]
     },
     "execution_count": 162,
     "metadata": {},
     "output_type": "execute_result"
    }
   ],
   "source": [
    "df.ratings.value_counts()"
   ]
  },
  {
   "cell_type": "code",
   "execution_count": 163,
   "id": "bcd058fb",
   "metadata": {},
   "outputs": [],
   "source": [
    "df.ratings.replace(\"New\",0,inplace=True)"
   ]
  },
  {
   "cell_type": "code",
   "execution_count": 164,
   "id": "4d3acae3",
   "metadata": {},
   "outputs": [],
   "source": [
    "df.ratings.replace(np.nan,0,inplace=True)"
   ]
  },
  {
   "cell_type": "code",
   "execution_count": 165,
   "id": "dfa6c0a9",
   "metadata": {},
   "outputs": [
    {
     "data": {
      "text/plain": [
       "array(['3.7', '3.9', '4.1', '4.3', '4', '4.2', '4.4', '4.5', '3.8', '4.6',\n",
       "       '3.6', 0, '3.4', '3.5', '3.1', '3.3', '2.7', '3.2', '-', '3',\n",
       "       '4.7', '2.8', '2.9', '2.6'], dtype=object)"
      ]
     },
     "execution_count": 165,
     "metadata": {},
     "output_type": "execute_result"
    }
   ],
   "source": [
    "df.ratings.unique()"
   ]
  },
  {
   "cell_type": "code",
   "execution_count": 166,
   "id": "33187211",
   "metadata": {},
   "outputs": [],
   "source": [
    "df.replace(\"-\",np.nan,inplace=True)"
   ]
  },
  {
   "cell_type": "code",
   "execution_count": 167,
   "id": "cb43b26d",
   "metadata": {},
   "outputs": [
    {
     "data": {
      "text/plain": [
       "array(['3.7', '3.9', '4.1', '4.3', '4', '4.2', '4.4', '4.5', '3.8', '4.6',\n",
       "       '3.6', 0, '3.4', '3.5', '3.1', '3.3', '2.7', '3.2', nan, '3',\n",
       "       '4.7', '2.8', '2.9', '2.6'], dtype=object)"
      ]
     },
     "execution_count": 167,
     "metadata": {},
     "output_type": "execute_result"
    }
   ],
   "source": [
    "df.ratings.unique()"
   ]
  },
  {
   "cell_type": "code",
   "execution_count": 168,
   "id": "bb4c7b9a",
   "metadata": {},
   "outputs": [
    {
     "data": {
      "text/plain": [
       "0      3.7\n",
       "1      3.9\n",
       "2      4.1\n",
       "3      3.9\n",
       "4      4.3\n",
       "      ... \n",
       "652    3.2\n",
       "653    NaN\n",
       "654    3.8\n",
       "655    NaN\n",
       "656    3.4\n",
       "Name: ratings, Length: 657, dtype: float64"
      ]
     },
     "execution_count": 168,
     "metadata": {},
     "output_type": "execute_result"
    }
   ],
   "source": [
    "#Removing New and '-'\n",
    "df.ratings.astype(float)"
   ]
  },
  {
   "cell_type": "code",
   "execution_count": 169,
   "id": "8697e5e5",
   "metadata": {},
   "outputs": [
    {
     "data": {
      "text/plain": [
       "array(['3.7', '3.9', '4.1', '4.3', '4', '4.2', '4.4', '4.5', '3.8', '4.6',\n",
       "       '3.6', 0, '3.4', '3.5', '3.1', '3.3', '2.7', '3.2', nan, '3',\n",
       "       '4.7', '2.8', '2.9', '2.6'], dtype=object)"
      ]
     },
     "execution_count": 169,
     "metadata": {},
     "output_type": "execute_result"
    }
   ],
   "source": [
    "df.ratings.unique()"
   ]
  },
  {
   "cell_type": "code",
   "execution_count": 170,
   "id": "2c08b859",
   "metadata": {},
   "outputs": [
    {
     "data": {
      "text/plain": [
       "0      3.7\n",
       "1      3.9\n",
       "2      4.1\n",
       "3      3.9\n",
       "4      4.3\n",
       "      ... \n",
       "652    3.2\n",
       "653    4.0\n",
       "654    3.8\n",
       "655    4.0\n",
       "656    3.4\n",
       "Name: ratings, Length: 657, dtype: float64"
      ]
     },
     "execution_count": 170,
     "metadata": {},
     "output_type": "execute_result"
    }
   ],
   "source": [
    "#Removing New and '-'\n",
    "\n",
    "def modify(r_t):\n",
    "    if(r_t=='New' or r_t=='-'):\n",
    "        return np.nan\n",
    "    else:\n",
    "        r_t = str(r_t).split('/')\n",
    "        r_t = r_t[0]\n",
    "        return float(r_t)\n",
    "df['ratings'] = df['ratings'].apply(modify)\n",
    "df['ratings'].fillna(round(df['ratings'].mean()),inplace=True)\n",
    "df['ratings']"
   ]
  },
  {
   "cell_type": "code",
   "execution_count": 171,
   "id": "471040d0",
   "metadata": {},
   "outputs": [
    {
     "name": "stdout",
     "output_type": "stream",
     "text": [
      "<class 'pandas.core.frame.DataFrame'>\n",
      "RangeIndex: 657 entries, 0 to 656\n",
      "Data columns (total 4 columns):\n",
      " #   Column         Non-Null Count  Dtype  \n",
      "---  ------         --------------  -----  \n",
      " 0   names          657 non-null    object \n",
      " 1   ratings        657 non-null    float64\n",
      " 2   cuisine        657 non-null    object \n",
      " 3   price for one  657 non-null    int64  \n",
      "dtypes: float64(1), int64(1), object(2)\n",
      "memory usage: 20.7+ KB\n"
     ]
    }
   ],
   "source": [
    "df.info()"
   ]
  },
  {
   "cell_type": "code",
   "execution_count": 193,
   "id": "02283839",
   "metadata": {},
   "outputs": [
    {
     "data": {
      "text/plain": [
       "array(['Chinese, Bakery, Sichuan, Pizza, Burger',\n",
       "       'Burger, Fast Food, Biryani, Desserts, Beverages',\n",
       "       'South Indian, Andhra, Mithai',\n",
       "       'Biryani, Kebab, Desserts, Beverages',\n",
       "       'Fast Food, Sandwich, Pizza, Burger, Wraps, Rolls, Salad, Desserts',\n",
       "       'North Indian, Chinese, Mughlai, Mandi, Sichuan, Shawarma, Seafood, Beverages',\n",
       "       'South Indian, Chinese, North Indian', 'North Indian',\n",
       "       'North Indian, Biryani, Mughlai', 'Ice Cream, Desserts',\n",
       "       'Bakery, Desserts, Fast Food, Pizza', 'Hyderabadi, Biryani',\n",
       "       'South Indian', 'Biryani', 'Pizza, Fast Food, Desserts, Beverages',\n",
       "       'Andhra, Biryani, South Indian, Desserts, Beverages, Hyderabadi',\n",
       "       'Burger, Fast Food', 'North Indian, Chinese, Andhra, Seafood',\n",
       "       'Biryani, North Indian, Seafood, Chinese, Kebab',\n",
       "       'Bakery, Fast Food, Pizza, Burger',\n",
       "       'Biryani, South Indian, Mughlai, Andhra, Desserts, Hyderabadi',\n",
       "       'Pizza, Pasta, Fast Food',\n",
       "       'Bakery, Fast Food, Rolls, Chinese, Pizza, Burger', 'Ice Cream',\n",
       "       'Bakery, Chinese, Pizza, Fast Food',\n",
       "       'Healthy Food, Fast Food, Sandwich, Salad, Wraps, Beverages',\n",
       "       'Ice Cream, Desserts, Pizza', 'North Indian, Chinese',\n",
       "       'Shake, Ice Cream',\n",
       "       'Andhra, North Indian, Chinese, Seafood, Beverages, Desserts',\n",
       "       'Mithai', 'Bakery, Desserts, Ice Cream, Pancake',\n",
       "       'Beverages, Ice Cream, Desserts, Shake', 'Chinese, North Indian',\n",
       "       'Biryani, Mughlai, Kebab, Desserts', 'Andhra',\n",
       "       'Andhra, South Indian, Biryani, North Indian, Desserts',\n",
       "       'North Indian, Biryani, Chinese, Healthy Food, Desserts, Beverages',\n",
       "       'North Indian, South Indian, Street Food, Fast Food, Desserts, Beverages, Tea',\n",
       "       'Shake, Ice Cream, Desserts',\n",
       "       'North Indian, Chinese, Biryani, Seafood, Kebab, Mandi, Desserts, Beverages',\n",
       "       'South Indian, North Indian, Chinese', 'Bakery, Fast Food',\n",
       "       'North Indian, Chinese, Mughlai',\n",
       "       'North Indian, South Indian, Chinese', 'Mughlai, Biryani',\n",
       "       'Fast Food, Pizza, Pasta, Desserts, Beverages, Shake, Coffee',\n",
       "       'Rolls', 'Momos, Fast Food',\n",
       "       'Fast Food, Wraps, North Indian, Desserts, Beverages',\n",
       "       'South Indian, North Indian',\n",
       "       'Bakery, Desserts, Mithai, Fast Food, Pizza, Burger',\n",
       "       'Kebab, Street Food, Wraps, Momos, Biryani, Shawarma',\n",
       "       'Momos, Fast Food, Beverages', 'Pizza, Fast Food',\n",
       "       'Healthy Food, South Indian, North Indian, Biryani, Beverages',\n",
       "       'Fast Food, North Indian, Healthy Food, Biryani, Desserts, Beverages',\n",
       "       'Cafe, Beverages, Fast Food, Tea', 'Waffle, Desserts, Pancake',\n",
       "       'South Indian, Beverages', 'Mithai, Desserts, Street Food, Bakery',\n",
       "       'Cafe, Beverages, Fast Food, Desserts, Tea', 'Desserts, Ice Cream',\n",
       "       'Ice Cream, Desserts, Fast Food, Pizza', 'Mithai, Street Food',\n",
       "       'North Indian, Mughlai, Chinese, Biryani',\n",
       "       'Mexican, Fast Food, Wraps', 'Chinese, Biryani',\n",
       "       'Biryani, North Indian, Fast Food, Beverages, Desserts',\n",
       "       'Ice Cream, Desserts, Waffle', 'Kerala, Biryani, South Indian',\n",
       "       'Chinese, Asian, Sichuan', 'Bakery, Fast Food, Pancake',\n",
       "       'Mithai, Street Food, North Indian, South Indian, Fast Food, Beverages, Desserts, Pizza',\n",
       "       'Chinese, South Indian, Sichuan',\n",
       "       'South Indian, North Indian, Chinese, Ice Cream, Beverages, Desserts',\n",
       "       'North Indian, Biryani, Chinese, South Indian',\n",
       "       'Healthy Food, Salad',\n",
       "       'Fast Food, Burger, Beverages, Shake, Juices, Ice Cream',\n",
       "       'Bakery, Desserts', 'North Indian, Chinese, Biryani, Sichuan',\n",
       "       'Bakery, Desserts, Coffee', 'Chinese, Bakery',\n",
       "       'Chinese, Continental, North Indian',\n",
       "       'Bakery, Pizza, Fast Food, Burger',\n",
       "       'Mexican, Healthy Food, American, Salad, Continental, Beverages',\n",
       "       'Asian, North Indian, Pasta, Biryani', 'South Indian, Tea',\n",
       "       'Pizza, Rolls, Fast Food, Desserts, Bakery',\n",
       "       'Beverages, Desserts, Lebanese, Shake, Shawarma',\n",
       "       'Juices, Beverages', 'Bengali, Chinese',\n",
       "       'North Indian, Biryani, Arabian, Beverages, Mandi',\n",
       "       'Arabian, North Indian, Chinese, Mandi, Beverages, Desserts, Sichuan, Shawarma',\n",
       "       'Mithai, Desserts, Juices, Fast Food',\n",
       "       'Chinese, North Indian, Kebab, Biryani, Seafood, Beverages, Mughlai, Sichuan',\n",
       "       'North Indian, Chinese, South Indian, Mughlai, Desserts, Beverages',\n",
       "       'North Indian, Chinese, Andhra', 'South Indian, Street Food',\n",
       "       'North Indian, Street Food, Fast Food, BBQ, Desserts',\n",
       "       'South Indian, North Indian, Chinese, Biryani, Beverages, Desserts',\n",
       "       'Burger, Desserts, Tea, Coffee',\n",
       "       'North Indian, Mughlai, Kebab, Chinese, Beverages, Desserts',\n",
       "       'Momos', 'South Indian, Chinese, North Indian, Biryani',\n",
       "       'Biryani, Mughlai, Chinese, Kebab, Sichuan',\n",
       "       'Beverages, Juices, Shake, Healthy Food',\n",
       "       'Juices, Beverages, Fast Food, Shake', 'Desserts, Beverages',\n",
       "       'Bakery, Desserts, Ice Cream',\n",
       "       'North Indian, South Indian, Chinese, Street Food, Fast Food, Beverages',\n",
       "       'Ice Cream, Desserts, Pizza, Fast Food, Street Food, Beverages',\n",
       "       'South Indian, Chinese, North Indian, Juices, Beverages, Desserts, Sichuan',\n",
       "       'South Indian, Desserts, Beverages', 'South Indian, Chinese',\n",
       "       'Mithai, North Indian, Street Food, South Indian, Beverages',\n",
       "       'Beverages, Desserts, Ice Cream, Waffle', 'Healthy Food, Desserts',\n",
       "       'Fast Food, Sandwich, Shake, Beverages, Burger, Coffee',\n",
       "       'Fast Food, Momos',\n",
       "       'North Indian, Chinese, Mughlai, Asian, Mandi, Desserts, Biryani, BBQ',\n",
       "       'Chinese, Biryani, North Indian',\n",
       "       'South Indian, Street Food, Beverages',\n",
       "       'Bakery, Desserts, Fast Food, Street Food, Pizza, Burger',\n",
       "       'South Indian, Juices',\n",
       "       'South Indian, Chinese, North Indian, Sichuan, Pizza',\n",
       "       'Bakery, Chinese, Sandwich, Burger, Pizza, Fast Food',\n",
       "       'Juices, Beverages, Ice Cream, Shake',\n",
       "       'South Indian, Chinese, North Indian, Beverages, Desserts, Sandwich',\n",
       "       'Desserts, Bakery', 'Pizza, Pasta, Fast Food, Desserts, Beverages',\n",
       "       'Chinese, Singaporean, Thai, Seafood, Ice Cream, Beverages, North Indian, Sichuan',\n",
       "       'Fast Food, Sandwich, Burger, Pizza, Mexican, Beverages',\n",
       "       'Biryani, South Indian, Beverages',\n",
       "       'Desserts, Fast Food, Street Food, Pizza, Ice Cream, Beverages',\n",
       "       'Cafe, Fast Food, Coffee, Desserts, Beverages',\n",
       "       'Beverages, Coffee', 'Waffle, Desserts',\n",
       "       'North Indian, Street Food',\n",
       "       'South Indian, Chinese, Fast Food, North Indian, Street Food, Biryani, Sandwich, Beverages',\n",
       "       'Beverages, Juices, Salad, Shake, Desserts',\n",
       "       'South Indian, Street Food, Juices, Beverages', 'Hyderabadi',\n",
       "       'Biryani, Cafe, North Indian, Continental, Street Food, Beverages, Desserts, Pizza',\n",
       "       'Mithai, Desserts, Street Food', 'North Indian, Fast Food',\n",
       "       'Bakery, Desserts, Fast Food', 'Bakery',\n",
       "       'Chinese, North Indian, Sichuan',\n",
       "       'Maharashtrian, Fast Food, Street Food, Beverages',\n",
       "       'Cafe, American, Continental, Italian, Coffee, Beverages, Pizza, Burger',\n",
       "       'Healthy Food, Juices, Beverages', 'Street Food',\n",
       "       'Street Food, Fast Food, North Indian, Maharashtrian, Tea',\n",
       "       'Tea, Beverages, Fast Food',\n",
       "       'North Indian, Chinese, Fast Food, Beverages, Sichuan, Pizza',\n",
       "       'North Indian, Chinese, Biryani', 'South Indian, Chinese, Sichuan',\n",
       "       'Pizza, Fast Food, Pasta, Sandwich, Beverages, Shake, Ice Cream',\n",
       "       'Cafe, Continental, Beverages',\n",
       "       'North Indian, Chinese, Mughlai, Seafood, Kebab, Biryani, Beverages, Sichuan',\n",
       "       'Mexican, Italian, Desserts, Pizza',\n",
       "       'North Indian, Biryani, Chinese',\n",
       "       'North Indian, Chinese, Mughlai, Seafood, Andhra, Biryani, Desserts, Beverages',\n",
       "       'Beverages, Ice Cream, Salad',\n",
       "       'North Indian, Biryani, Mughlai, BBQ',\n",
       "       'Beverages, Shake, Ice Cream',\n",
       "       'Bakery, Fast Food, Desserts, Sandwich, Burger, Rolls, Pizza',\n",
       "       'Mithai, Desserts', 'Street Food, South Indian',\n",
       "       'Tea, Shake, Beverages, Street Food',\n",
       "       'South Indian, Chinese, Street Food',\n",
       "       'Cafe, Continental, Italian, Fast Food, Pizza, Desserts, Beverages, Burger',\n",
       "       'Fast Food, Beverages, Shake, Pizza, Momos, Shawarma',\n",
       "       'Beverages, Fast Food',\n",
       "       'Bakery, Fast Food, Beverages, Pizza, Burger',\n",
       "       'North Indian, Kebab, Biryani, Awadhi, Hyderabadi, Modern Indian, Desserts, Beverages',\n",
       "       'South Indian, Beverages, Tea', 'Fast Food, Roast Chicken',\n",
       "       'Mithai, Fast Food, Street Food', 'South Indian, Hyderabadi',\n",
       "       'South Indian, Beverages, Desserts', 'Beverages, Juices, Shake',\n",
       "       'Ice Cream, Beverages, Desserts, Shake, Tea',\n",
       "       'Bakery, Mithai, Fast Food, Desserts',\n",
       "       'Beverages, Desserts, Ice Cream, Shake',\n",
       "       'North Indian, Kebab, Biryani, Hyderabadi, Mughlai, Desserts',\n",
       "       'North Indian, Biryani, Chinese, Mughlai, Andhra, Beverages',\n",
       "       'Desserts, Shake', 'Bakery, Ice Cream, Desserts',\n",
       "       'Fast Food, Momos, Shawarma',\n",
       "       'South Indian, North Indian, Chinese, Fast Food, Beverages, Shake',\n",
       "       'Rolls, Fast Food, Sichuan', 'Mithai, Street Food, Fast Food',\n",
       "       'Fast Food, Coffee, Beverages',\n",
       "       'Asian, North Indian, Chinese, Mexican, Italian, Desserts, Beverages, Sichuan',\n",
       "       'Beverages, Fast Food, Pizza', 'Chinese, Sichuan',\n",
       "       'Cafe, Coffee, Burger, Sandwich, Beverages, Desserts, Tea, Continental',\n",
       "       'Mughlai, North Indian, Andhra, Kebab', 'South Indian, Biryani',\n",
       "       'North Indian, South Indian, Chinese, Desserts',\n",
       "       'Chinese, North Indian, Biryani', 'Biryani, Chinese',\n",
       "       'Bakery, Fast Food, South Indian, Beverages, Shake, Pizza, Burger, Tea',\n",
       "       'Biryani, North Indian, Chinese', 'Burger',\n",
       "       'North Indian, Chinese, South Indian, Beverages',\n",
       "       'South Indian, North Indian, Biryani, Hyderabadi, Chinese',\n",
       "       'Hyderabadi, Chinese',\n",
       "       'Cafe, Italian, Mexican, Fast Food, Desserts, Beverages, Sichuan, Pizza',\n",
       "       'Ice Cream, Desserts, Healthy Food',\n",
       "       'Cafe, Fast Food, Burger, Chinese, Sandwich, Desserts, Shake, Beverages',\n",
       "       'Street Food, Beverages',\n",
       "       'Cafe, Chinese, Fast Food, Beverages, Sichuan, Pizza, Burger, Momos',\n",
       "       'Cafe, Fast Food, Desserts, Beverages, Shake, Tea',\n",
       "       'Italian, Beverages, Pizza',\n",
       "       'Cafe, Bakery, Desserts, Pizza, Fast Food, Beverages, Italian',\n",
       "       'Biryani, Mughlai, Lucknowi, Hyderabadi, Kebab, North Indian, Desserts, Beverages',\n",
       "       'Fast Food, Street Food, Tea, Pizza, Sandwich',\n",
       "       'Beverages, Juices, Shake, Salad, Pizza, Desserts, Healthy Food, Sandwich',\n",
       "       'Fast Food, Burger, Sandwich, Street Food, Chinese, Pizza, Beverages, Sichuan',\n",
       "       'Pizza', 'North Indian, Andhra, Chinese, Beverages, Desserts',\n",
       "       'Fast Food, Chinese, North Indian',\n",
       "       'Beverages, Street Food, Sandwich, Salad, Shake, Juices',\n",
       "       'Biryani, Hyderabadi, Kebab', 'North Indian, Healthy Food',\n",
       "       'Shake, Beverages', 'Burger, Fast Food, Beverages, Shake',\n",
       "       'Lebanese, Arabian, Rolls, Fast Food, Pizza',\n",
       "       'Cafe, American, Italian, Beverages, Fast Food, Shake, Burger, Waffle',\n",
       "       'Waffle, Pancake, Beverages, Shake',\n",
       "       'North Indian, South Indian, Chinese, Kebab, Sichuan',\n",
       "       'Fast Food, Bakery, Desserts',\n",
       "       'Cafe, Fast Food, Waffle, Pancake, Coffee, Beverages',\n",
       "       'North Indian, South Indian', 'Healthy Food',\n",
       "       'Fast Food, Pizza, Momos',\n",
       "       'Cafe, Fast Food, Wraps, Pizza, Beverages, Shake, Desserts',\n",
       "       'North Indian, Chinese, Sichuan', 'Fast Food, Beverages, Desserts',\n",
       "       'South Indian, North Indian, Andhra',\n",
       "       'South Indian, Biryani, North Indian',\n",
       "       'Beverages, Desserts, Bakery, Shake',\n",
       "       'Bakery, Fast Food, Shake, Beverages', 'Juices',\n",
       "       'South Indian, North Indian, Beverages',\n",
       "       'Fast Food, Beverages, Coffee, Pizza, Burger, Momos, Tea',\n",
       "       'Chinese, Mughlai',\n",
       "       'Cafe, Continental, Healthy Food, Italian, Pizza, Tea',\n",
       "       'Salad, Desserts, Beverages, Shake',\n",
       "       'Bakery, Desserts, Fast Food, Burger, Shawarma',\n",
       "       'Tea, Beverages, Fast Food, Shake, Coffee', 'Pizza, Italian',\n",
       "       'Beverages, Street Food, Shake, Sandwich, Tea', 'Shawarma',\n",
       "       'Mughlai, Hyderabadi', 'Fast Food, Bakery, Desserts, Shake',\n",
       "       'Fast Food, Momos, Beverages', 'Fast Food, Desserts, Beverages',\n",
       "       'Beverages, Sandwich, Desserts, Shake, Healthy Food',\n",
       "       'Cafe, Desserts, Pizza, Burger, Waffle, Tea', 'Mughlai, Chinese',\n",
       "       'Chinese, Beverages, Shake', 'Chinese, Lebanese, Biryani',\n",
       "       'Chinese, Sichuan, Momos', 'Street Food, Fast Food',\n",
       "       'Fast Food, Beverages, Biryani, Desserts, Burger',\n",
       "       'North Indian, Chinese, South Indian, Continental, Sandwich, Beverages, Juices, Ice Cream',\n",
       "       'Cafe', 'Fast Food, Lebanese', 'Hyderabadi, North Indian',\n",
       "       'Asian, Biryani, North Indian',\n",
       "       'Burger, Chinese, Fast Food, Beverages', 'Desserts',\n",
       "       'North Indian, Chinese, Biryani, Desserts',\n",
       "       'Juices, Beverages, Shake', 'Mughlai, North Indian',\n",
       "       'North Indian, Rajasthani, Fast Food, Street Food',\n",
       "       'North Indian, Continental, Healthy Food, Fast Food, Burger, Pasta, Beverages, Desserts',\n",
       "       'Juices, Healthy Food', 'Mughlai',\n",
       "       'Maharashtrian, Fast Food, Chinese, North Indian, Bakery, Mithai, Desserts',\n",
       "       'Fast Food, Healthy Food, Beverages',\n",
       "       'North Indian, Fast Food, Desserts',\n",
       "       'Cafe, Bakery, Pizza, Italian, Healthy Food, Tea',\n",
       "       'Chinese, North Indian, Biryani, Mughlai, Sichuan, Shawarma',\n",
       "       'Chinese, South Indian', 'Biryani, Chinese, Shawarma',\n",
       "       'Beverages, Sandwich, Juices, Salad, Healthy Food, Shake',\n",
       "       'Fast Food, Street Food, Ice Cream, Beverages',\n",
       "       'Fast Food, Shawarma', 'Ice Cream, Desserts, Shake',\n",
       "       'Fast Food, Sandwich, Ice Cream, Beverages, Shake',\n",
       "       'Beverages, Fast Food, Shake, Waffle',\n",
       "       'Healthy Food, Beverages, Shake', 'Chinese, North Indian, Mughlai',\n",
       "       'Beverages', 'Cafe, Pizza, Fast Food', 'South Indian, Pizza',\n",
       "       'Chinese, South Indian, North Indian, Mughlai, Street Food, Biryani',\n",
       "       'Pizza, Burger, Fast Food', 'Bakery, Desserts, Shake',\n",
       "       'Fast Food, Chinese, North Indian, Biryani, Mughlai, Beverages',\n",
       "       'Street Food, Andhra',\n",
       "       'Beverages, Shake, Tea, Juices, Street Food',\n",
       "       'Cafe, Fast Food, Chinese, Beverages',\n",
       "       'Cafe, Continental, Fast Food, Desserts, Beverages',\n",
       "       'Beverages, Tea', 'Paan, Ice Cream', 'Paan',\n",
       "       'Chinese, South Indian, North Indian',\n",
       "       'Wraps, Rolls, Fast Food, Desserts, Beverages',\n",
       "       'North Indian, Chinese, Seafood', 'Andhra, Hyderabadi',\n",
       "       'Bakery, Desserts, Pizza, Sandwich, Burger, Fast Food',\n",
       "       'Fast Food', 'Bakery, Desserts, Fast Food, Beverages',\n",
       "       'Ice Cream, Desserts, Beverages',\n",
       "       'North Indian, Fast Food, Wraps, Desserts, Shake',\n",
       "       'Biryani, Beverages',\n",
       "       'Cafe, Mexican, Italian, Pizza, Coffee, Tea, Desserts, Burger',\n",
       "       'North Indian, Mughlai, Biryani',\n",
       "       'Healthy Food, Fast Food, Beverages',\n",
       "       'Burger, Fast Food, Desserts', 'Sandwich, Beverages',\n",
       "       'Beverages, North Indian, Asian, Continental, Sichuan, Waffle',\n",
       "       'Mithai, Street Food, Desserts',\n",
       "       'Cafe, Beverages, Coffee, Shake, Tea, Bubble Tea, Pancake',\n",
       "       'Fast Food, Shake, Beverages, Sichuan', 'South Indian, Andhra',\n",
       "       'Beverages, South Indian',\n",
       "       'Lebanese, Wraps, Burger, Fast Food, Desserts, Shawarma',\n",
       "       'Fast Food, Chinese, Sichuan', 'Fast Food, Beverages',\n",
       "       'Fast Food, Sandwich, Pizza, Burger, Beverages, Waffle, Tea, Coffee',\n",
       "       'Fast Food, Shake, Beverages',\n",
       "       'Continental, Italian, American, Cafe, Beverages',\n",
       "       'Biryani, South Indian', 'Ice Cream, Desserts, Cafe',\n",
       "       'Fast Food, Burger, Pizza, Sandwich', 'Biryani, Chinese, Shake',\n",
       "       'Andhra, Street Food',\n",
       "       'North Indian, Chinese, Ice Cream, Continental, Desserts, Beverages, Shake',\n",
       "       'Paan, Beverages, Street Food, Fast Food',\n",
       "       'Lebanese, Sandwich, Burger', 'Fast Food, Street Food',\n",
       "       'Burger, Sandwich, Fast Food',\n",
       "       'Cafe, Continental, Fast Food, Salad, Healthy Food, Shake, Coffee, Desserts',\n",
       "       'South Indian, North Indian, Chinese, Beverages, Desserts',\n",
       "       'Cafe, Coffee, Sandwich, Italian, Mexican, Pasta, Fast Food',\n",
       "       'Bakery, Fast Food, Chinese, Beverages, Desserts, Sichuan, Pizza',\n",
       "       'Frozen Yogurt, Desserts',\n",
       "       'Chinese, Fast Food, Pizza, Pasta, Italian',\n",
       "       'Cafe, Coffee, Beverages, Fast Food',\n",
       "       'Street Food, North Indian, Fast Food',\n",
       "       'Fast Food, North Indian, Chinese',\n",
       "       'South Indian, Street Food, Fast Food, Chinese',\n",
       "       'Andhra, South Indian',\n",
       "       'Desserts, Ice Cream, Fast Food, Shake, Beverages, Waffle',\n",
       "       'North Indian, Chinese, Fast Food',\n",
       "       'Beverages, Momos, Shake, Street Food, Fast Food',\n",
       "       'Fast Food, Beverages, Shake',\n",
       "       'Cafe, European, Italian, Pizza, Burger, Waffle, Tea, Coffee',\n",
       "       'Cafe, Healthy Food, Continental, Lebanese, Italian, Beverages, Shake, North Indian',\n",
       "       'Bakery, Fast Food, Beverages, Ice Cream, Desserts, Shake, Pizza, Waffle',\n",
       "       'Cafe, Continental', 'Fast Food, Tea', 'Lebanese',\n",
       "       'Mithai, Street Food, Tea',\n",
       "       'North Indian, Continental, Chinese, Desserts, Oriental, Biryani, Beverages',\n",
       "       'Middle Eastern, Shawarma', 'Arabian, Mandi',\n",
       "       'Beverages, Shake, Burger', 'Beverages, Shake',\n",
       "       'Ice Cream, Desserts, Shake, Beverages',\n",
       "       'Cafe, Fast Food, Continental, Beverages, Desserts, Bakery, Shake, Tea',\n",
       "       'Healthy Food, North Indian, Italian',\n",
       "       'Healthy Food, Sandwich, Beverages', 'Bakery, Shawarma',\n",
       "       'Bakery, Desserts, Beverages',\n",
       "       'Biryani, Kebab, Mughlai, North Indian, Desserts, Beverages',\n",
       "       'Fast Food, Burger',\n",
       "       'Cafe, Italian, Continental, Burger, Fast Food, Desserts, Beverages, Pizza',\n",
       "       'North Indian, Chinese, Beverages, Biryani, Desserts, Sichuan',\n",
       "       'Fast Food, Desserts',\n",
       "       'Fast Food, Street Food, Tea, Beverages, Coffee',\n",
       "       'Ice Cream, Desserts, Pizza, Waffle, Tea, Coffee',\n",
       "       'Fast Food, Biryani', 'Juices, Beverages, Shake, Desserts, Salad',\n",
       "       'Beverages, Fast Food, Desserts', 'Seafood', 'North Indian, Kebab',\n",
       "       'Hyderabadi, Desserts, Sandwich, Salad', 'Chinese, Momos'],\n",
       "      dtype=object)"
      ]
     },
     "execution_count": 193,
     "metadata": {},
     "output_type": "execute_result"
    }
   ],
   "source": [
    "df['cuisine'].unique()"
   ]
  },
  {
   "cell_type": "code",
   "execution_count": 194,
   "id": "f3227869",
   "metadata": {},
   "outputs": [
    {
     "data": {
      "text/plain": [
       "array(['Sahara Bakers', 'KFC', 'Subbaiah Gari Hotel', 'Paradise Biryani',\n",
       "       'Pista House Bakery', 'Shah Ghouse Hotel & Restaurant',\n",
       "       'Swagath Hotel', 'Just Parantha', 'Mehfil', 'Cream Stone',\n",
       "       'MS Bakery & Sweets', 'Iqbal Cafe', 'Mahalaxmi Tiffin Centre',\n",
       "       'Al- Naseer Tahari Centre', 'Pizza Hut', 'Andhra Gunpowder',\n",
       "       'Burger King', 'Kinara Grand', 'Meridian Restaurant', 'KS Bakers',\n",
       "       'Biryani Trip', \"La Pino'z Pizza\", 'NIC - Natural Ice Creams',\n",
       "       'Tipsy Topsy Bakery',\n",
       "       'Kwality Wall’s Frozen Dessert and Ice Cream Shop',\n",
       "       'Karachi Bakery', 'Subway', 'Scoops',\n",
       "       'Airport Bawarchi Restaurant', 'The Thickshake Factory',\n",
       "       'Sri Kanya Comfort', 'Natural Ice Cream', 'G. Pulla Reddy Sweets',\n",
       "       'CakeZone', 'Lassi Shop', 'Rice Bowl', \"King's Palace\",\n",
       "       'Behrouz Biryani', 'Andhra Meals And Tiffins',\n",
       "       \"Kritunga - The Palegar's Cuisine\", 'LunchBox - Meals and Thalis',\n",
       "       \"Haldiram's\", 'Makers Of Milkshakes',\n",
       "       'Capital Multi Cuisine Restaurant', 'Chutneys', 'Arun Ice Creams',\n",
       "       'Swiss Castle', 'Crystal Restaurant & Bar', 'Kamat Hotel',\n",
       "       'Riyan Hotel', \"1989 Pizza & Thick Shake's\", \"Tibb's Frankie\",\n",
       "       'Zomoz - The Momo Company', 'Faasos - Wraps & Rolls',\n",
       "       'Sri Sai Raghavendra Udipi Veg', 'Indian Bakery',\n",
       "       'Mohammedia Shawarma', 'WOW! Momo',\n",
       "       'Yours Universe - Bakes & Cakes', 'Eagles Pizza', 'Millet Express',\n",
       "       'Thali Central', 'Ram Ki Bandi',\n",
       "       'Bhattad Ki Idli - Rambharose Bhandar', 'Cafe Niloufer',\n",
       "       'The Belgian Waffle Co.', 'Hotel Swagath', \"Dadu's\",\n",
       "       'Starbucks Coffee', 'Fancy Ice Cream', 'Temptations',\n",
       "       'Almond House', 'Papaji-Da-Dhaba', 'Taco Bell', 'Star Hotel',\n",
       "       'The Biryani Life', 'Ambika Tiffin Center', 'Baskin Robbins',\n",
       "       'Pathemari Kerala Restaurant', 'WOW! China', 'BrownBear',\n",
       "       'Bikanervala', \"Sri Mahalaxmi Reddy Brother's Tiffins & Fast Food\",\n",
       "       'Minerva Coffee Shop', 'Vellanki Foods', 'Shree Golden Palace',\n",
       "       'FarmBowl By Urbankisaan', 'Suprabhat Tiffins',\n",
       "       'Hotel Sandarshini', \"Cake L'amore\", 'Balaji Family Dhaba',\n",
       "       'Balaji Santhosh Dhaba', 'Theobroma',\n",
       "       'New Grand Restaurant & Bakery', 'Blue Fox',\n",
       "       'Balapur Bawarchi Restaurant', 'Oven Secretz',\n",
       "       'California Burrito', 'The Good Bowl', 'MS Bakery',\n",
       "       'Milan Juice Centre', 'New Balaji Santosh Dhaba',\n",
       "       'Nausheen Fruit Juice Centre', 'Amantran', 'Hotel Niagara',\n",
       "       \"King's Restaurant\", 'Minerva Sweets', 'Hotel Parwaz',\n",
       "       \"NR's Nandini Sudha\", 'Fishland', 'Anu Tiffins Centre', 'Bakingo',\n",
       "       \"AB's - Absolute Barbecues\", 'Dwaraka Veg Restaurant',\n",
       "       \"DUNKIN' DONUTS\", 'Hotel Sohail',\n",
       "       'Sri Durga Udupi Tiffins & Meals', 'Momo Monk',\n",
       "       'Babai Grand Hotel', 'Redaan Restaurant',\n",
       "       'Nandu Fresh Fruit Juice Centre', 'Royal Juice Cente',\n",
       "       'Krispy Kreme', \"Ohri's Cake Nation\", 'Hotel Sweekar',\n",
       "       'Taj Mahal - Taj Mahal Hotel', 'Masqati Ice Cream',\n",
       "       'Hotel Sri Raghavendra Udupi Veg',\n",
       "       'Sindhura Eastcourt Tiffins & Meals',\n",
       "       'Hotel Ashoka Grand Udupi Veg', 'Sri Gayatri Bhavan',\n",
       "       'Haldirams Sweets And Namkeens',\n",
       "       'Frozen Bottle - Milkshakes, Desserts and Ice Cream', 'Fruitfull',\n",
       "       'Sandwich Eatery', 'Hotel Anand Bhavan', 'Snack House',\n",
       "       '4M Biryani House', 'Vasireddy Swagruha Foods',\n",
       "       'Ikraam Restaurant', 'Krishna Food Court', 'Royal Tiffin Center',\n",
       "       'Just Bake', 'ibaco', 'Suprabath Tiffins',\n",
       "       'Abhiruchi Swaghruha Foods', 'Indira Darshini',\n",
       "       'Krupa Mess & Tiffins', 'Baker Street',\n",
       "       'Alhamdulilah Juice Centre', 'Taj Mahal Hotel',\n",
       "       'Sweet Truth - Cake and Desserts', 'Sri Raghavendra Udupi',\n",
       "       'Onesta', 'Chung Hua Restaurant', 'The Nosh Bistro',\n",
       "       'Telangana Inti Ruchulu', 'Cafe Coffee Day',\n",
       "       'Sri Raghavendra Tiffins and Meals', 'Shree Ganesh Darshini',\n",
       "       'SLAY Coffee', 'The Dessert Bakers', 'Pure Veg Meals by LunchBox',\n",
       "       'Green Treat Vegetarian Food Court', 'Juice World', 'CAKES11',\n",
       "       'Amay Tiffin Corner', 'Emerald Mithai Shop', 'Al Kareem Hotel',\n",
       "       'The Brooklyn Creamery - Healthy Ice Cream',\n",
       "       'Forbes Cafe & Restaurant', 'Amaravathi Family Restaurant',\n",
       "       'Tewari Brothers Mithaiwala', 'Famous Ice Creams',\n",
       "       'Shree Balaji Family Dhaba', 'Monginis', 'Wholesale Cakes',\n",
       "       'Sri Sai Veg Point', 'Euphoria', 'Khichdi Express',\n",
       "       'Sri Darshini Pure Veg', 'Shri Morya Home Foods Marathi Katta',\n",
       "       'Hotel Woodside', 'Roastery Coffee House', 'Drunken Monkey',\n",
       "       'Sahadeva Reddy Tiffins', 'Govind Dosa', 'Samosa Singh',\n",
       "       'Chai Point', 'Ganesh Mithai Bhandar', 'Om  Best Paratha',\n",
       "       'Grand Bawarchi Restaurant', 'Sri Vasavi Grand', 'Huber & Holly',\n",
       "       'Conçu', 'Famous Tiffins', 'Sri Amul Tiffin Centre',\n",
       "       'Black Pearl - Hotel Central Park', 'Parathawala', 'Firangi Bake',\n",
       "       'A Balaji Santosh Dhaba', 'Hotel Abinand Grand', 'Eclair De Cake',\n",
       "       'VNR Fresh Juice Center', 'Cupcake Bliss Cakes & Desserts',\n",
       "       'Express By ABs', 'Coconut Juice Bar', \"Bakers 'Q'\",\n",
       "       'Madhur Sweets', 'Deccan Chef',\n",
       "       'Saudagar Kalyani Biryani And Tahari', \"Cake D'licious\",\n",
       "       \"Rahul's Adda\", 'WarmOven Cake & Desserts',\n",
       "       'Balaji Mukesh Mithai Bhandar', 'Salasar Chat And Tiffins Center',\n",
       "       'Tea Time', 'Nizams Khana Ghar', 'Ghrelin Cafe & Patisserie',\n",
       "       'The Exotic Shawarma', 'Dessi Cuppa', 'K&C Bakers & Confectioners',\n",
       "       'Makhni Brothers', 'Sri Siddartha Pure Veg', 'Five Star',\n",
       "       'Tawakkal Bakery & Sweets', 'Ravi Tiffins',\n",
       "       'Agra Mithai Ghar & Restaurant', 'Ankapur Chicken',\n",
       "       'Sri Raghavendra Curry Express', 'Asoka Restaurant',\n",
       "       'Natural Juice Cycle', 'Dumont', 'A.M. Tiffin Centre',\n",
       "       'Cakeland Sweets & Bakery', 'Sri Raghavendra Tiffins',\n",
       "       'Momo Zone - The Momo Company', 'VR Raghavendra Tiffins',\n",
       "       'Keventers - Milkshakes & Desserts', 'Punjab Restaurant',\n",
       "       'The Dessert Zone', 'Cakes Online', 'Sh Shawarma',\n",
       "       'Snehitha Restaurant', 'Kaati Zone Rolls And Wraps', 'Tif In',\n",
       "       'Dine Hill', 'Sahadeva Reddy Pure Ghee Sweets', 'Coffee And More',\n",
       "       'Meals101', 'Sri Sai Ram Darshini Tiffins & Meals',\n",
       "       'Madina Tiffins', 'Haji Ali Fresh Fruit Juices', 'Noodle House',\n",
       "       'Sri Raghavendra Tiffin Centre', '45th Avenue',\n",
       "       'Phulkaas - Indian & Mughlai', 'Bismillah Hotel', 'Swagth Hotel',\n",
       "       'Veggie Chinese', 'Shiva Sai Reddy Sweets & Chaat',\n",
       "       'South India Tiffins Meals & Fast Food Adda',\n",
       "       'Taiba Bakery & Cafe', 'Balaji Santosh Dhaba',\n",
       "       'Hyderabad Tiffin Centre', 'Delicious Dosa', 'Indiana Burgers',\n",
       "       'Swathi Coffee Shop', 'North Food Factory', 'A2 Fast Food',\n",
       "       'Teju Mess', 'Annapurna Mess', 'The Chocolate Room',\n",
       "       'Gelatica Gelato - Ice Cream', 'De Cafe Studio', 'Samosa Party',\n",
       "       'Cakes King', 'Gayathri Curry Point', 'Bench Cafe & Restaurant',\n",
       "       'Theory Cafe & Dessert Bar', 'Flying Spaghetti Monster', 'Feranoz',\n",
       "       'Mehfil Biryani By Zakir Khan', \"Tea's N More\", 'Qvinch',\n",
       "       'Sri Balaji Mithai Bhandar', 'Garamm Chai Cafe',\n",
       "       'New Delhi Mithai Wala', 'Pizza Stories', 'Aangan - Yaatri Nivas',\n",
       "       'Tara Juice World', 'Hameedi Confectioner',\n",
       "       'New Balaji Santosh Family Dhaba', '50 Fruits',\n",
       "       'Aarth - Authentic Claypot Biryanis', \"Chotu's - The Food People\",\n",
       "       'Splurge - Thickshakes And Milkshakes', 'Burger It Up',\n",
       "       'Seasons Xprs', 'The Hole in The Wall Cafe', 'The Waffle Co',\n",
       "       'Royal Tiffin Centre', 'Paradise Fast Food & Juice',\n",
       "       'New Babar Bakery', 'Sivaramareddy Ghee Sweets & Chat',\n",
       "       'M S Tiffin & Chat', 'New Satyanarayan Mithai Bhandar',\n",
       "       'The Funnel Hill Creamery', 'Mom Special', 'The Burrito Bowl',\n",
       "       'Continue Night Way', 'Superly - The Cosmo Cafe',\n",
       "       'Shero Home Food - Chettinad', 'Prathi Roju Inti Meals Curries',\n",
       "       'Agra Sweets', 'Sri Vaibhav Tiffins', \"Qaffeine By Ohri's\",\n",
       "       'Balaji Hukmichand Mithai Bhandar', 'Lingaiah Tiffin Center',\n",
       "       'Balaji Mithai Bhandar', 'Italian Hub', 'Pallavi Tiffin Centre',\n",
       "       'Swathi Mess & Dhaba', 'Sanjos Donuts', 'Juice Splash',\n",
       "       '15 Andra Pappu Currys & Meals', 'Ramadevi Curry Point & Mess',\n",
       "       'Vasudo Dhaba Inn', \"Sahadeva Reddy's Chinese Kitchen\",\n",
       "       'Slurpy Shakes', 'Low Budget Curry Point',\n",
       "       \"Singh's Pure Veg Restaurant\", 'Balaji Mahesh Mithai Bhandar',\n",
       "       'RHM Bakers', 'Apple Cut Fast Food & Juice Center',\n",
       "       '10 Rupee Meals', 'Fat Tiger', 'Masala Medley',\n",
       "       'A1 Fast Food And Nahari Centre', 'UR Life Cafe',\n",
       "       'Rahul Tiffin & Fast Food Centre', 'Summer Land',\n",
       "       'Wholesale Bakery', 'Té - A Tea Tradition', 'Swastik Udupi Veg',\n",
       "       \"Jamie's Pizzeria By Jamie Oliver\", 'Dostea',\n",
       "       'Feel In Saudia Shawarma', 'Bikaner Mithaiwala', 'FresHygiene@365',\n",
       "       \"Moghal's Tiffin Centre\", 'Hotel Miskeen', 'Roti Express',\n",
       "       'Cakes & Pastries', 'Vinayak Tiffins', 'Naseeb Hotel',\n",
       "       'Anupama Hotel Veg & Non Veg', 'Delhiwala Sweets & Chat',\n",
       "       'Kouzina Kafe - The Food Court',\n",
       "       'Gourmet Ice Cream Cakes By Baskin Robbins',\n",
       "       'New Delhi Mithaiwala', 'PVR Café', 'Ritz Food World', 'Juice Box',\n",
       "       'Van Lavino', 'Sri Siddhi Vinayaka Tiffins, Meals & Sweets',\n",
       "       'Dosa King - The Taste Of South', 'Paris Waffle Co.',\n",
       "       'New Al Madina Hotel', 'Swathi Tiffiens Somajiguda',\n",
       "       'Dosa House Restaurant', 'Bagara Rice And Curries Center',\n",
       "       'Dude Restaurant', 'Sanwariya Mithai Wala', 'Mamatha Darshini',\n",
       "       'Wok On! By Phulkaas', 'Shyam Singh Chat Bhandar', 'Meethe Miya',\n",
       "       'Burger Eats', 'Sri Ruchulu', 'Curry Pot',\n",
       "       'Shree Balaji Suraj Mithai Bhandar', 'Waffle House',\n",
       "       'Mayodia Cakes N Bakes', 'Iceberg Organic Icecreams',\n",
       "       'Birthday Cakes', 'The Joint',\n",
       "       \"Rida's Biryani House (Home Made Food)\",\n",
       "       'Currypoint Foods Of Shathamana Bavathi',\n",
       "       'Gupta Tiffins & Fast Food', 'Tasty Bite', 'Laddu ji',\n",
       "       'Mahboob Bakers', 'House Of Candy', 'Kiran Ki Rasoi',\n",
       "       'TTT Juice Center', 'Sri Rami Reddy Pure Ghee Sweets',\n",
       "       'Punjab National Hotel-PNH', 'Mast Kalandar The Kitchen',\n",
       "       'Masala Republic', 'Punjabi Rasoi', 'Shiv Shakti Jodhpur Sweets',\n",
       "       'Indulge Ice Cream By Almond House', 'Juice Express',\n",
       "       'Homely Meals And Curries Center', 'Bai Ji Ka Choka',\n",
       "       'Amrit Juice Centre', 'Amma Special Food', 'Gayathri Bhavan',\n",
       "       'Desi Food Zone', 'TCS The Cake Story',\n",
       "       'Gladiator Nutrition And Food', 'Biryani House', 'Ae Spice Villa',\n",
       "       'Nue Cafe', 'As Bakers', 'Tasty Guru', '1 Kg Curries',\n",
       "       'Brista Restaurant', \"Hussain's Food Court\",\n",
       "       'The Favorite Biryani And Shawarma',\n",
       "       'Zorro - Milkshakes And Thickshakes', 'Bhagyalaxmi Tiffin Centre',\n",
       "       'Juice And Sandwich Point', 'Shahi Zaiqa', 'Tempteas',\n",
       "       'The Kulfi Falooda Project', 'Shawarma Station',\n",
       "       'Sundae Everyday Ice Creams', 'Mohammedi Confectioners',\n",
       "       'The Pork Affair', 'I-Creamy Cafe', 'Shake Studio',\n",
       "       'Royal Biryani & Kababs', 'Sri Krishna Sweets', 'The Health Bowl',\n",
       "       'Dosa Express', 'N Village Restaurant', 'Cocoworks',\n",
       "       'Cravings Cafe', \"Krishna Idli's & Dosa's\", 'FNP Cakes And More',\n",
       "       'Hassan Grand Restaurant', 'Aroma Food Court', 'Cafe Aroha',\n",
       "       'Cake Krejoi', \"Bhaijaan's Avenue Multi cuisine Restaurant\",\n",
       "       'Green Park Hotel', '100 Rakhala Inti Bojanam',\n",
       "       'Gongura Pappu,Tomato Appu,Palakura Pappu 100 curries',\n",
       "       'Sri Balaji Sweets', 'D Lounge- Tea Shakes And Snacks', 'Frykiki',\n",
       "       'Roobaroo Cafe', 'Heritage Ice Creams', 'Star Paan Shop',\n",
       "       'Raju Rani Inti Ruchulu', 'Saleem Stores The Pan Parlour',\n",
       "       'Shresta Ruchi Food Court', 'GetAWhey - Healthy Ice Creams',\n",
       "       'The Wrap Co.', 'Cakes 99', 'New Agra Sweets',\n",
       "       'Kohinoor Restaurant', 'Bombay Bar & Restaurant',\n",
       "       'Sri Bhanu Tiffin Center', 'Milan Bakery', 'Occasionkart Cakes',\n",
       "       'Cakes Den', 'Govind Di Maggie', 'Jai Balaji Mithai Bhandar',\n",
       "       'Cakes Papaji', 'Sri Sai Bakery', \"Patel's Chips & Crisps\",\n",
       "       'Badam And Kaju Ki Jali ( The Imperial Sweet House)',\n",
       "       'Angel Bakers', 'Sri Balaji Papalal Mithai Bhandar',\n",
       "       'US Live Pops', 'Havmor', 'Famous Fried Chicken',\n",
       "       \"Govi's Organic Foods\", 'Heavenly Biryani', 'Cake 24x7',\n",
       "       'Lassi & Falooda Co.', 'Homely Kitchen', 'Kitchen Maha Raja',\n",
       "       'Aaromale', 'Special Cakes', 'Flavours Curated By ITC Kakatiya',\n",
       "       'Eggsplode', \"Burger Hub's\", 'Sitara Foods', 'The Sandwich Story',\n",
       "       '24/7 Gallery Café - Hyatt Place',\n",
       "       'Sree Sai Satyanarayana Mithai Bhandar', 'Ironhill Cafe',\n",
       "       'Balaji Mithai Wala & Chat', 'Wild Fries And Corn', 'Chai Amruth',\n",
       "       'Shero Home Food - Andhra', 'The Kadak Dosa',\n",
       "       'Small Mixed Rice Veg Non Veg', 'Mini Box House Of Curries',\n",
       "       'Turkish Shawarma And Burgers', 'Fresco Grillicious & Broasted',\n",
       "       'Smiley Mohan Fast Food', 'Chai Chowrasta', 'Food Adda',\n",
       "       'Chai And More', 'Star Rotis And Catering Service', 'Tiffin Point',\n",
       "       'Dream Dessert Ice Cream', 'Ganga Rambhabu Currypoint And Mess',\n",
       "       'Kings Food Court', 'Bagara Rice Meals Center', 'Cafe Marka',\n",
       "       'Kiran Tiffin Centre', 'Paradise Bakery - By Paradise Biryani',\n",
       "       'Amogh Multicuisine Restaurant', 'Kulfi Nation', 'Hunger Langar',\n",
       "       'Sambhar Bhojanam Mess', 'Jk Tiffins',\n",
       "       'Veg And Non Veg Curry Bazar', 'Hangout', '20 Curries Meals',\n",
       "       'Fryed Wings', 'Dosa Street', 'Cost To Cost Curry Point',\n",
       "       'Cakes 07', 'Non Veg  And Veg Bojanam',\n",
       "       'Chapathi And Pulka Center', 'Office Box Meals ( Veg And Non Veg)',\n",
       "       'Exotic Fruit Bowl', 'Nice Tiffins',\n",
       "       'Amma Chapathi Pulkha Roti Point', 'New Rajasthan Chat Bhandar',\n",
       "       'Ice n Spice - Hotel Inner Circle', 'Telugu Vari Inti Ruchulu',\n",
       "       'Smoodies', 'Sri Shagun Mithai Vatika', 'Healing Rice Bowls',\n",
       "       'Sri Ganesh Tiffins', 'Quench Paan & Smoothies',\n",
       "       'Teacher’s Kitchen & Food', 'Bullet Bandi Curry Point', 'INOX',\n",
       "       'New Shahi Naan', 'Really Homely Foods Hotel', 'Cakes Temptations',\n",
       "       'V Cafe- Meals By PVR', 'Cravery Cafe', 'Hotel Rajdhani', 'Ofen',\n",
       "       \"Bakers 'S' Treat\", 'Mana Inti Ruchulu', 'Cakes Hub',\n",
       "       'Myfroyoland', 'Jai Bhavani Tiffin Center', 'Italian Express',\n",
       "       'Barista', 'Sri Ramakrishna Reddy Pure Ghee Sweets', 'Zaika Bites',\n",
       "       'Chandni Chowk', 'Alfa Sweets', 'MG Point Fast Food',\n",
       "       'Eggiz - For Egg Lovers', 'The Rotii Makers Street',\n",
       "       'Babai Express', 'Creamy N Creamy Ice Stone',\n",
       "       'Jalebiwalas Mithai Bhandar', 'V Cafe @ Citadel By Vinnca',\n",
       "       'D-Lite Shakes & Snacks',\n",
       "       'Break The Bread - Sandwiches And Burgers', 'Truffle Tower',\n",
       "       'FullFills', '7th Heaven', 'HKGN Chat Bhandar', 'The Gallery Cafe',\n",
       "       'Mr Chaibaaz', 'Saravana Udupi Hotel',\n",
       "       'Jupiters Neelam Bar & Restaurant', 'Empala Hotel',\n",
       "       'Balaji Vishnu Sweet House', 'Verandah - The Park',\n",
       "       'Arabian Shawarma Adda',\n",
       "       'Jai Bhavani Spicy Hut fast food & Tiffins', 'Mataam Al Hind',\n",
       "       'PopKing Popcorn', 'Milkshakes Hub n More', \"Sip'R Slurp\",\n",
       "       'Old Mumbai Ice Cream', \"Mimee's Chocolates\", 'Rich Cake Wala',\n",
       "       'Brownie Heaven', 'ZUCI - Artisanal Chocolates & Cafe',\n",
       "       'Rice Plus Plus', \"Nature's Spirit\", 'Quality Shawarma',\n",
       "       'Quality Cakes', 'Best Burgers', 'Potful - Claypot Biryanis',\n",
       "       'The Burger Life', 'Dairy Den', 'Alfa Bakery',\n",
       "       'Enchanté Café & Confectionery',\n",
       "       'Hydrate The Bar - Hampshire Plaza', 'Eat Subs', 'Ek Pyali Chai',\n",
       "       'Cakes99', 'Vip Tasty Foods', 'Urban Turban',\n",
       "       'New Balaji Family Dhaba', 'Kiranmai Food Court',\n",
       "       'Mumbaichee Chaat Street', 'Kulfi Shulfi', 'Ariko Cafe',\n",
       "       'Firangi Fried Chicken', 'Sankla Tiffins & Dhaba', 'Meer Cafe',\n",
       "       'Bhavani Tiffins', 'Zaheer Juice Center', \"Aashu's Juice Bar\",\n",
       "       \"Jai Bhavani Tiffin's & Snacks\", 'Machili.Com',\n",
       "       'Bhatthi By Phulkaas', 'Season One Ice Cream', 'Cakes Club',\n",
       "       \"RK's Kitchen\", 'Makaan Zaiqa', 'Eat N Treat', 'Dr Cakes',\n",
       "       'Shahi Naan', 'Combosthalam By Phulkaas', 'Pachadis By Phulkaas',\n",
       "       'Tasim'], dtype=object)"
      ]
     },
     "execution_count": 194,
     "metadata": {},
     "output_type": "execute_result"
    }
   ],
   "source": [
    "df['names'].unique()"
   ]
  },
  {
   "cell_type": "code",
   "execution_count": 174,
   "id": "a1435948",
   "metadata": {},
   "outputs": [
    {
     "name": "stderr",
     "output_type": "stream",
     "text": [
      "C:\\ProgramData\\Anaconda3\\lib\\site-packages\\seaborn\\_decorators.py:36: FutureWarning: Pass the following variable as a keyword arg: x. From version 0.12, the only valid positional argument will be `data`, and passing other arguments without an explicit keyword will result in an error or misinterpretation.\n",
      "  warnings.warn(\n"
     ]
    },
    {
     "data": {
      "text/plain": [
       "<AxesSubplot:xlabel='ratings', ylabel='count'>"
      ]
     },
     "execution_count": 174,
     "metadata": {},
     "output_type": "execute_result"
    },
    {
     "data": {
      "image/png": "[encoded data removed]",
      "text/plain": [
       "<Figure size 1440x360 with 1 Axes>"
      ]
     },
     "metadata": {
      "needs_background": "light"
     },
     "output_type": "display_data"
    }
   ],
   "source": [
    "plt.figure(figsize=(20,5))\n",
    "sns.countplot(df['ratings'],palette = 'inferno')"
   ]
  },
  {
   "cell_type": "code",
   "execution_count": 176,
   "id": "93c75a17",
   "metadata": {},
   "outputs": [
    {
     "name": "stderr",
     "output_type": "stream",
     "text": [
      "C:\\ProgramData\\Anaconda3\\lib\\site-packages\\seaborn\\_decorators.py:36: FutureWarning: Pass the following variable as a keyword arg: x. From version 0.12, the only valid positional argument will be `data`, and passing other arguments without an explicit keyword will result in an error or misinterpretation.\n",
      "  warnings.warn(\n"
     ]
    },
    {
     "data": {
      "text/plain": [
       "<AxesSubplot:xlabel='price for one', ylabel='count'>"
      ]
     },
     "execution_count": 176,
     "metadata": {},
     "output_type": "execute_result"
    },
    {
     "data": {
      "image/png": "[encoded data removed]",
      "text/plain": [
       "<Figure size 432x288 with 1 Axes>"
      ]
     },
     "metadata": {
      "needs_background": "light"
     },
     "output_type": "display_data"
    }
   ],
   "source": [
    "#Vis Price For One\n",
    "sns.countplot(df[\"price for one\"])"
   ]
  },
  {
   "cell_type": "code",
   "execution_count": 177,
   "id": "101512cf",
   "metadata": {},
   "outputs": [
    {
     "data": {
      "text/plain": [
       "<AxesSubplot:>"
      ]
     },
     "execution_count": 177,
     "metadata": {},
     "output_type": "execute_result"
    },
    {
     "data": {
      "image/png": "[encoded data removed]",
      "text/plain": [
       "<Figure size 432x288 with 2 Axes>"
      ]
     },
     "metadata": {
      "needs_background": "light"
     },
     "output_type": "display_data"
    }
   ],
   "source": [
    "# Co - relation  between ratings and Price for one \n",
    "\n",
    "corr = df.corr()\n",
    "sns.heatmap(corr,xticklabels=corr.columns,yticklabels=corr.columns)"
   ]
  },
  {
   "cell_type": "code",
   "execution_count": 178,
   "id": "e4e85e0d",
   "metadata": {},
   "outputs": [
    {
     "data": {
      "text/plain": [
       "<seaborn.axisgrid.PairGrid at 0x19c88b2f940>"
      ]
     },
     "execution_count": 178,
     "metadata": {},
     "output_type": "execute_result"
    },
    {
     "data": {
      "image/png": "[encoded data removed]",
      "text/plain": [
       "<Figure size 360x360 with 6 Axes>"
      ]
     },
     "metadata": {
      "needs_background": "light"
     },
     "output_type": "display_data"
    }
   ],
   "source": [
    "sns.pairplot(df)"
   ]
  },
  {
   "cell_type": "code",
   "execution_count": 179,
   "id": "9f0a67f0",
   "metadata": {},
   "outputs": [
    {
     "data": {
      "text/plain": [
       "<seaborn.axisgrid.FacetGrid at 0x19c887c39a0>"
      ]
     },
     "execution_count": 179,
     "metadata": {},
     "output_type": "execute_result"
    },
    {
     "data": {
      "image/png": "[encoded data removed]",
      "text/plain": [
       "<Figure size 360x360 with 1 Axes>"
      ]
     },
     "metadata": {
      "needs_background": "light"
     },
     "output_type": "display_data"
    }
   ],
   "source": [
    "sns.displot(df['price for one'])"
   ]
  },
  {
   "cell_type": "code",
   "execution_count": 180,
   "id": "c38317f5",
   "metadata": {},
   "outputs": [
    {
     "data": {
      "text/plain": [
       "<seaborn.axisgrid.FacetGrid at 0x19c886a3250>"
      ]
     },
     "execution_count": 180,
     "metadata": {},
     "output_type": "execute_result"
    },
    {
     "data": {
      "image/png": "[encoded data removed]",
      "text/plain": [
       "<Figure size 360x360 with 1 Axes>"
      ]
     },
     "metadata": {
      "needs_background": "light"
     },
     "output_type": "display_data"
    }
   ],
   "source": [
    "sns.displot(df['ratings'])"
   ]
  },
  {
   "cell_type": "code",
   "execution_count": 184,
   "id": "3c6255b2",
   "metadata": {},
   "outputs": [
    {
     "data": {
      "image/png": "[encoded data removed]",
      "text/plain": [
       "<Figure size 864x576 with 2 Axes>"
      ]
     },
     "metadata": {
      "needs_background": "light"
     },
     "output_type": "display_data"
    }
   ],
   "source": [
    "df.hist(figsize=(12,8),bins=20)\n",
    "plt.show()"
   ]
  },
  {
   "cell_type": "code",
   "execution_count": 185,
   "id": "e8a52310",
   "metadata": {},
   "outputs": [
    {
     "data": {
      "text/plain": [
       "<AxesSubplot:>"
      ]
     },
     "execution_count": 185,
     "metadata": {},
     "output_type": "execute_result"
    },
    {
     "data": {
      "image/png": "[encoded data removed]",
      "text/plain": [
       "<Figure size 432x288 with 1 Axes>"
      ]
     },
     "metadata": {
      "needs_background": "light"
     },
     "output_type": "display_data"
    }
   ],
   "source": [
    "df.boxplot()"
   ]
  },
  {
   "cell_type": "code",
   "execution_count": 189,
   "id": "78811bb6",
   "metadata": {},
   "outputs": [
    {
     "ename": "NameError",
     "evalue": "name 'X' is not defined",
     "output_type": "error",
     "traceback": [
      "\u001b[1;31m---------------------------------------------------------------------------\u001b[0m",
      "\u001b[1;31mNameError\u001b[0m                                 Traceback (most recent call last)",
      "\u001b[1;32mC:\\Users\\ADMINI~1\\AppData\\Local\\Temp/ipykernel_15748/908112467.py\u001b[0m in \u001b[0;36m<module>\u001b[1;34m\u001b[0m\n\u001b[0;32m      1\u001b[0m \u001b[1;31m## split the data into training data & testing data\u001b[0m\u001b[1;33m\u001b[0m\u001b[1;33m\u001b[0m\u001b[0m\n\u001b[1;32m----> 2\u001b[1;33m \u001b[0mX_train\u001b[0m\u001b[1;33m,\u001b[0m\u001b[0mX_test\u001b[0m\u001b[1;33m,\u001b[0m\u001b[0mY_train\u001b[0m\u001b[1;33m,\u001b[0m\u001b[0mY_test\u001b[0m\u001b[1;33m=\u001b[0m\u001b[0mtrain_test_split\u001b[0m\u001b[1;33m(\u001b[0m\u001b[0mX\u001b[0m\u001b[1;33m,\u001b[0m \u001b[0mY\u001b[0m\u001b[1;33m,\u001b[0m \u001b[0mtest_size\u001b[0m\u001b[1;33m=\u001b[0m\u001b[1;36m0.2\u001b[0m\u001b[1;33m,\u001b[0m\u001b[0mstratify\u001b[0m\u001b[1;33m=\u001b[0m\u001b[0mY\u001b[0m\u001b[1;33m,\u001b[0m\u001b[0mrandom_state\u001b[0m\u001b[1;33m=\u001b[0m\u001b[1;36m2\u001b[0m\u001b[1;33m)\u001b[0m\u001b[1;33m\u001b[0m\u001b[1;33m\u001b[0m\u001b[0m\n\u001b[0m",
      "\u001b[1;31mNameError\u001b[0m: name 'X' is not defined"
     ]
    }
   ],
   "source": [
    "## split the data into training data & testing data\n",
    "X_train,X_test,Y_train,Y_test=train_test_split(X, Y, test_size=0.2,stratify=Y,random_state=2)"
   ]
  },
  {
   "cell_type": "code",
   "execution_count": null,
   "id": "b9520368",
   "metadata": {},
   "outputs": [],
   "source": []
  },
  {
   "cell_type": "code",
   "execution_count": null,
   "id": "0d7fa041",
   "metadata": {},
   "outputs": [],
   "source": []
  }
 ],
 "metadata": {
  "kernelspec": {
   "display_name": "Python 3 (ipykernel)",
   "language": "python",
   "name": "python3"
  },
  "language_info": {
   "codemirror_mode": {
    "name": "ipython",
    "version": 3
   },
   "file_extension": ".py",
   "mimetype": "text/x-python",
   "name": "python",
   "nbconvert_exporter": "python",
   "pygments_lexer": "ipython3",
   "version": "3.9.7"
  }
 },
 "nbformat": 4,
 "nbformat_minor": 5
}
